{
 "cells": [
  {
   "cell_type": "code",
   "execution_count": null,
   "id": "578539fc",
   "metadata": {},
   "outputs": [],
   "source": [
    "import cv2 as cv\n",
    "import matplotlib.pyplot as plt"
   ]
  },
  {
   "cell_type": "code",
   "execution_count": null,
   "id": "84936893",
   "metadata": {},
   "outputs": [],
   "source": [
    "\n",
    "def resim_boyutlandir(img, olcek_faktoru=0.2):\n",
    "    boyutlar = img.shape\n",
    "    yukseklik, genislik, kanallar = boyutlar\n",
    "    boyutlandirilmis_img = cv.resize(img, None, fx=olcek_faktoru, fy=olcek_faktoru, interpolation=cv.INTER_AREA)\n",
    "    return boyutlandirilmis_img\n",
    "\n",
    "def resmi_goster(img, baslik='Resim'):\n",
    "    cv.imshow(baslik, img)\n",
    "    cv.waitKey(0)\n",
    "    cv.destroyAllWindows()\n",
    "\n",
    "def resmi_onisle(img):\n",
    "    gri_img = cv.cvtColor(img, cv.COLOR_BGR2GRAY)\n",
    "    bulanik_img = cv.GaussianBlur(gri_img, (3, 3), 0)\n",
    "    return gri_img, bulanik_img\n",
    "\n",
    "def gri_histogram_ciz(gri_img):\n",
    "    plt.hist(gri_img.ravel(), 256)\n",
    "    plt.show()\n",
    "\n",
    "def otsu_esikleme_uygula(bulanik_img):\n",
    "    _, otsu_img = cv.threshold(bulanik_img, 0, 255, cv.THRESH_BINARY | cv.THRESH_OTSU)\n",
    "    return otsu_img\n",
    "\n",
    "def konturlari_bul_ve_ciz(img, ikili_img):\n",
    "    konturlar, _ = cv.findContours(ikili_img, cv.RETR_TREE, cv.CHAIN_APPROX_SIMPLE)\n",
    "    cv.drawContours(img, konturlar, -1, (0, 255, 255), 1)\n",
    "    return konturlar\n",
    "\n",
    "def pirinc_taneleri_say_ve_goster(konturlar):\n",
    "    print(\"Toplam pirinç tanesi sayısı =\", len(konturlar))\n",
    "\n",
    "# Resmi yükle\n",
    "path = r'C:\\Users\\DELL1\\Downloads\\rice_images\\full_grain_1.jpg'\n",
    "img = cv.imread(path)\n",
    "\n",
    "# Resmi boyutlandır\n",
    "boyutlandirilmis_img = resim_boyutlandir(img)\n",
    "\n",
    "# Resmi ön işle\n",
    "gri_img, bulanik_img = resmi_onisle(boyutlandirilmis_img)\n",
    "\n",
    "# Boyutlandırılmış resmi göster\n",
    "resmi_goster(boyutlandirilmis_img, baslik='Boyutlandırılmış Resim')\n",
    "\n",
    "# Gri resmin histogramını çiz\n",
    "gri_histogram_ciz(gri_img)\n",
    "\n",
    "# Otsu'nun eşikleme yöntemini uygula\n",
    "otsu_img = otsu_esikleme_uygula(bulanik_img)\n",
    "resmi_goster(otsu_img, baslik='Otsu Resim')\n",
    "\n",
    "# Konturları bul ve orijinal resimde çiz\n",
    "konturlar = konturlari_bul_ve_ciz(boyutlandirilmis_img, otsu_img)\n",
    "resmi_goster(boyutlandirilmis_img, baslik='Konturlar')\n",
    "\n",
    "# Pirinç tanesi sayısını hesapla ve göster\n",
    "pirinc_taneleri_say_ve_goster(konturlar)\n"
   ]
  }
 ],
 "metadata": {
  "kernelspec": {
   "display_name": "Python 3 (ipykernel)",
   "language": "python",
   "name": "python3"
  },
  "language_info": {
   "codemirror_mode": {
    "name": "ipython",
    "version": 3
   },
   "file_extension": ".py",
   "mimetype": "text/x-python",
   "name": "python",
   "nbconvert_exporter": "python",
   "pygments_lexer": "ipython3",
   "version": "3.9.7"
  }
 },
 "nbformat": 4,
 "nbformat_minor": 5
}
